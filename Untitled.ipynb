{
 "cells": [
  {
   "cell_type": "code",
   "execution_count": 74,
   "id": "ae3c9cc4",
   "metadata": {},
   "outputs": [],
   "source": [
    "from typing import List\n",
    "\n",
    "import pandas as pd\n",
    "import json\n",
    "import altair as alt\n",
    "from hun_date_parser import text2datetime\n",
    "from hun_date_parser.date_parser.interval_restriction import extract_datetime_within_interval\n",
    "from datetimerange import DateTimeRange\n",
    "from copy import deepcopy\n",
    "from datetime import datetime\n",
    "from enum import Enum\n",
    "\n",
    "class RequestFeedback:\n",
    "    REQUEST_OK = \"REQUEST_OK\"\n",
    "    REQUEST_SKIPPED = \"REQUEST_SKIPPED\"\n",
    "\n",
    "\n",
    "def has_date_mention(text):\n",
    "    res = text2datetime(text)\n",
    "    return bool(res)\n",
    "\n",
    "\n",
    "class TimeTable:\n",
    "    \"\"\"\n",
    "    Time interval state representation\n",
    "    \"\"\"\n",
    "\n",
    "    def __init__(self, labels: List[str]):\n",
    "        \"\"\"\n",
    "        :param\n",
    "        \"\"\"\n",
    "        self.labels = labels\n",
    "        self.sub_datetimes = {l: [] for l in labels}\n",
    "        self.current_dtrl = {'label': None, 'ladder': None}\n",
    "        self.has_currently_discussed_range = False\n",
    "\n",
    "    def _house_keeping(self):\n",
    "        for label in self.labels:\n",
    "            for i, dtr_i in enumerate(self.sub_datetimes[label]):\n",
    "                for j, dtr_j in enumerate(self.sub_datetimes[label]):\n",
    "                    if i < j and dtr_i.is_intersection(dtr_j):\n",
    "                        self.sub_datetimes[label][i] = self.sub_datetimes[label][i].encompass(\n",
    "                            self.sub_datetimes[label][j])\n",
    "                        del self.sub_datetimes[label][j]\n",
    "                        self._house_keeping()\n",
    "                        break\n",
    "\n",
    "    def label_timerange(self, start, end, label):\n",
    "        new_dtr = DateTimeRange(start, end)\n",
    "\n",
    "        encompassed = False\n",
    "        for i in range(len(self.sub_datetimes[label])):\n",
    "            if self.sub_datetimes[label][i].is_intersection(new_dtr):\n",
    "                encompassed = True\n",
    "                self.sub_datetimes[label][i] = self.sub_datetimes[label][i].encompass(new_dtr)\n",
    "\n",
    "        if not encompassed:\n",
    "            self.sub_datetimes[label].append(new_dtr)\n",
    "\n",
    "        self._house_keeping()\n",
    "\n",
    "    def query_timerange(self, start, end, label):\n",
    "        queried_dtr = DateTimeRange(start, end)\n",
    "        result = []\n",
    "\n",
    "        for dtr in self.sub_datetimes[label]:\n",
    "            if queried_dtr.is_intersection(dtr):\n",
    "                result.append(queried_dtr.intersection(dtr))\n",
    "\n",
    "        return result\n",
    "\n",
    "    def label_timerange_by_text(self, text, label):\n",
    "        res_l = text2datetime(text)\n",
    "\n",
    "        for tval in res_l:\n",
    "            if tval['start_date'] and tval['end_date']:\n",
    "                self.label_timerange(tval['start_date'], tval['end_date'], label)\n",
    "\n",
    "    def flush_label(self, label):\n",
    "        self.sub_datetimes[label] = []\n",
    "\n",
    "    def get_label(self, label):\n",
    "        return self.sub_datetimes[label]\n",
    "\n",
    "    def get_first_range_for_label(self, label):\n",
    "        if not self.sub_datetimes[label]:\n",
    "            return None\n",
    "\n",
    "        min_dtr = self.sub_datetimes[label][0]\n",
    "        for dtrange in self.sub_datetimes[label][1:]:\n",
    "            if dtrange.start_datetime < min_dtr.start_datetime:\n",
    "                min_dtr = dtrange\n",
    "\n",
    "        return min_dtr\n",
    "    \n",
    "    def set_current_discussed(self, top_range_dct, label):\n",
    "        top_range = DateTimeRange(top_range_dct['start_date'], top_range_dct['end_date'])\n",
    "        dtrl = DateRangeLadder(top_range)\n",
    "        self.current_dtrl = {'label': label, 'ladder': dtrl}\n",
    "        self.has_currently_discussed_range = True\n",
    "        \n",
    "    def discuss_current(self, query_text):\n",
    "        if not self.current_dtrl['ladder'] or not has_date_mention(query_text):\n",
    "            return RequestFeedback.REQUEST_SKIPPED\n",
    "        \n",
    "        self.current_dtrl['ladder'].step_in_ladder_with_text(query_text)\n",
    "        if not self.current_dtrl['ladder'].has_range():\n",
    "            self.has_currently_discussed_range = False\n",
    "            \n",
    "        return RequestFeedback.REQUEST_OK\n",
    "            \n",
    "    def get_currently_discussed_range(self):\n",
    "        if self.has_currently_discussed_range:\n",
    "            return self.current_dtrl['ladder'].get_bottom_step()\n",
    "        else:\n",
    "            return RequestFeedback.REQUEST_SKIPPED\n",
    "        \n",
    "    def remove_currently_discussed(self):\n",
    "        self.current_dtrl = {'label': None, 'ladder': None}\n",
    "        self.has_currently_discussed_range = False\n",
    "\n",
    "    def get_viz(self):\n",
    "        res = []\n",
    "\n",
    "        for label, ti_list in self.sub_datetimes.items():\n",
    "            for dtr in ti_list:\n",
    "                res.append([label, dtr.start_datetime, dtr.end_datetime])\n",
    "\n",
    "        df_timetable = pd.DataFrame(res, columns=['label', 'from', 'to'])\n",
    "\n",
    "        alt.renderers.enable('default')\n",
    "        alt.Chart(df_timetable).mark_bar().encode(\n",
    "            x='from',\n",
    "            x2='to',\n",
    "            y='label',\n",
    "            tooltip=[alt.Tooltip('from', format='%Y-%m-%d %H:%M'), alt.Tooltip('to', format='%Y-%m-%d %H:%M')],\n",
    "            color=alt.Color('label', scale=alt.Scale(scheme='dark2'))\n",
    "        ).properties(\n",
    "            width=1200,\n",
    "            height=200\n",
    "        ).save('chart_from_chatbot.html')\n",
    "\n",
    "    def toJSON(self):\n",
    "        dct = deepcopy(self.__dict__)\n",
    "\n",
    "        serializable_sub_datetimes = {lb: [] for lb in self.labels}\n",
    "        for k, intv_list in self.sub_datetimes.items():\n",
    "            for intv in intv_list:\n",
    "                serializable_sub_datetimes[k].append((intv.start_datetime.strftime('%Y-%m-%d %H:%M'),\n",
    "                                                      intv.end_datetime.strftime('%Y-%m-%d %H:%M')))\n",
    "\n",
    "        dct[\"sub_datetimes\"] = serializable_sub_datetimes\n",
    "        \n",
    "        ladder = self.current_dtrl[\"ladder\"].toJSON()\n",
    "        dct[\"current_dtrl\"] = [self.current_dtrl[\"label\"], ladder]\n",
    "\n",
    "        return json.dumps(dct)\n",
    "\n",
    "    @staticmethod\n",
    "    def fromJSON(json_str):\n",
    "        dct = json.loads(json_str)\n",
    "        tt = TimeTable(dct['labels'])\n",
    "\n",
    "        parsed_sub_datetimes = {lb: [] for lb in dct['labels']}\n",
    "        for k, intv_list in dct['sub_datetimes'].items():\n",
    "            for sd, ed in intv_list:\n",
    "                parsed_sub_datetimes[k].append(DateTimeRange(sd, ed))\n",
    "\n",
    "        tt.sub_datetimes = parsed_sub_datetimes\n",
    "        \n",
    "        tt.current_dtrl = {\n",
    "            \"label\": dct[\"current_dtrl\"][0],\n",
    "            \"ladder\": dct[\"current_dtrl\"][1]\n",
    "        }\n",
    "        tt.has_currently_discussed_range = dct[\"has_currently_discussed_range\"]\n",
    "\n",
    "        return tt\n"
   ]
  },
  {
   "cell_type": "code",
   "execution_count": 75,
   "id": "d48b4d56",
   "metadata": {},
   "outputs": [],
   "source": [
    "class DateRangeLadder:\n",
    "    \n",
    "    def __init__(self, top_range):\n",
    "        self.top_range = top_range\n",
    "        self.ladder = [top_range] # [smaller --> greater]\n",
    "        \n",
    "    def step_in_ladder(self, daterange):\n",
    "        inserted = False\n",
    "        for i in range(len(self.ladder)):\n",
    "            intersection = self.ladder[i].intersection(daterange)\n",
    "            if intersection.start_datetime and intersection.end_datetime:\n",
    "                self.ladder = [intersection, *self.ladder[i:]]\n",
    "                inserted = True\n",
    "                \n",
    "        if not inserted:\n",
    "            self.ladder = []\n",
    "            \n",
    "    def step_in_ladder_with_text(self, query):\n",
    "        if not has_date_mention(query):\n",
    "            return None\n",
    "        \n",
    "        inserted = False\n",
    "        for i in range(len(self.ladder)):\n",
    "            current = self.ladder[i]\n",
    "            success_flag, user_date_mentions = extract_datetime_within_interval(current.start_datetime,\n",
    "                                                                                current.end_datetime,\n",
    "                                                                                query,\n",
    "                                                                                expect_future_day=True)\n",
    "            dt_mention = user_date_mentions[0]\n",
    "            mention_dtr = DateTimeRange(dt_mention['start_date'],\n",
    "                                        dt_mention['end_date'])\n",
    "            intersection = self.ladder[i].intersection(mention_dtr)\n",
    "                            \n",
    "            if intersection.start_datetime and intersection.end_datetime:\n",
    "                self.ladder = [intersection, *self.ladder[i:]]\n",
    "                inserted = True\n",
    "                    \n",
    "        if not inserted:\n",
    "            self.ladder = []\n",
    "            \n",
    "    def get_bottom_step(self):\n",
    "        if self.has_range():\n",
    "            return self.ladder[0]\n",
    "        else:\n",
    "            return None\n",
    "        \n",
    "    def has_range(self):\n",
    "        return bool(self.ladder)\n",
    "            \n",
    "    def toJSON(self):\n",
    "        dct = {}\n",
    "        dct['top_range'] = (self.top_range.start_datetime.strftime('%Y-%m-%d %H:%M'),\n",
    "                            self.top_range.end_datetime.strftime('%Y-%m-%d %H:%M'))\n",
    "        \n",
    "        ladder_s = []\n",
    "        for dtr in self.ladder:\n",
    "            ladder_s.append((dtr.start_datetime.strftime('%Y-%m-%d %H:%M'),\n",
    "                             dtr.end_datetime.strftime('%Y-%m-%d %H:%M')))\n",
    "\n",
    "        dct[\"ladder\"] = ladder_s\n",
    "\n",
    "        return json.dumps(dct)\n",
    "\n",
    "    @staticmethod\n",
    "    def fromJSON(json_str):\n",
    "        dct = json.loads(json_str)\n",
    "        top_dtr_tup = dct['top_range']\n",
    "        drl = DateRangeLadder(DateTimeRange(top_dtr_tup[0], top_dtr_tup[1]))\n",
    "\n",
    "        ladder = []\n",
    "        for dtr_dct in dct['ladder']:\n",
    "            ladder.append(DateTimeRange(dtr_dct[0], dtr_dct[1]))\n",
    "\n",
    "        drl.ladder = ladder\n",
    "\n",
    "        return drl"
   ]
  },
  {
   "cell_type": "code",
   "execution_count": null,
   "id": "0fb6316e",
   "metadata": {},
   "outputs": [],
   "source": []
  },
  {
   "cell_type": "code",
   "execution_count": 84,
   "id": "a9d4cdb4",
   "metadata": {},
   "outputs": [],
   "source": [
    "class ActionBlocks:\n",
    "    \n",
    "    def __init__(text: str, time_table: TimeTable):\n",
    "        self.text = text\n",
    "        self.time_table = time_table\n",
    "    \n",
    "    def if_text_has_datetime(self):\n",
    "        return has_date_mention(self.text)\n",
    "    \n",
    "    def if_theres_currently_discussed_range(self):\n",
    "        return self.time_table.has_currently_discussed_range\n"
   ]
  },
  {
   "cell_type": "code",
   "execution_count": null,
   "id": "ef47e981",
   "metadata": {},
   "outputs": [],
   "source": []
  },
  {
   "cell_type": "code",
   "execution_count": null,
   "id": "a958f372",
   "metadata": {},
   "outputs": [],
   "source": []
  },
  {
   "cell_type": "code",
   "execution_count": 76,
   "id": "7af29c77",
   "metadata": {},
   "outputs": [],
   "source": [
    "tt = TimeTable([\"bot_free\", \"user_free\"])"
   ]
  },
  {
   "cell_type": "code",
   "execution_count": 77,
   "id": "9dd92bc1",
   "metadata": {},
   "outputs": [],
   "source": [
    "tt.set_current_discussed(\n",
    "    {'start_date': datetime(2021, 10, 26, 17, 0),\n",
    "     'end_date': datetime(2021, 10, 26, 19, 0)},\n",
    "    \"user_free\"\n",
    ")"
   ]
  },
  {
   "cell_type": "code",
   "execution_count": 78,
   "id": "ab4fa1b9",
   "metadata": {},
   "outputs": [
    {
     "data": {
      "text/plain": [
       "'REQUEST_OK'"
      ]
     },
     "execution_count": 78,
     "metadata": {},
     "output_type": "execute_result"
    }
   ],
   "source": [
    "tt.discuss_current(\"17:15-kor\")"
   ]
  },
  {
   "cell_type": "code",
   "execution_count": 79,
   "id": "428a42fc",
   "metadata": {},
   "outputs": [
    {
     "data": {
      "text/plain": [
       "2021-10-26T17:15:00 - 2021-10-26T17:15:59"
      ]
     },
     "execution_count": 79,
     "metadata": {},
     "output_type": "execute_result"
    }
   ],
   "source": [
    "tt.get_currently_discussed_range()"
   ]
  },
  {
   "cell_type": "code",
   "execution_count": 80,
   "id": "916031a0",
   "metadata": {},
   "outputs": [
    {
     "data": {
      "text/plain": [
       "'REQUEST_SKIPPED'"
      ]
     },
     "execution_count": 80,
     "metadata": {},
     "output_type": "execute_result"
    }
   ],
   "source": [
    "tt.discuss_current(\"abcd\")"
   ]
  },
  {
   "cell_type": "code",
   "execution_count": 81,
   "id": "05c16ebd",
   "metadata": {},
   "outputs": [
    {
     "data": {
      "text/plain": [
       "2021-10-26T17:15:00 - 2021-10-26T17:15:59"
      ]
     },
     "execution_count": 81,
     "metadata": {},
     "output_type": "execute_result"
    }
   ],
   "source": [
    "tt.get_currently_discussed_range()"
   ]
  },
  {
   "cell_type": "code",
   "execution_count": 82,
   "id": "a4663873",
   "metadata": {},
   "outputs": [],
   "source": [
    "tt.remove_currently_discussed()"
   ]
  },
  {
   "cell_type": "code",
   "execution_count": 83,
   "id": "64642dfe",
   "metadata": {},
   "outputs": [
    {
     "data": {
      "text/plain": [
       "'REQUEST_SKIPPED'"
      ]
     },
     "execution_count": 83,
     "metadata": {},
     "output_type": "execute_result"
    }
   ],
   "source": [
    "tt.get_currently_discussed_range()"
   ]
  },
  {
   "cell_type": "code",
   "execution_count": 106,
   "id": "83993deb",
   "metadata": {},
   "outputs": [],
   "source": [
    "tt1 = TimeTable.fromJSON(tt.toJSON())"
   ]
  },
  {
   "cell_type": "code",
   "execution_count": 107,
   "id": "0f216133",
   "metadata": {},
   "outputs": [
    {
     "data": {
      "text/plain": [
       "<__main__.TimeTable at 0x7f8277915220>"
      ]
     },
     "execution_count": 107,
     "metadata": {},
     "output_type": "execute_result"
    }
   ],
   "source": [
    "tt1"
   ]
  },
  {
   "cell_type": "code",
   "execution_count": 95,
   "id": "b7358430",
   "metadata": {},
   "outputs": [],
   "source": []
  },
  {
   "cell_type": "code",
   "execution_count": 83,
   "id": "09575780",
   "metadata": {},
   "outputs": [],
   "source": [
    "a = DateTimeRange(datetime(2021, 10, 1), datetime(2021, 10, 10))\n",
    "b = DateTimeRange(datetime(2021, 10, 3), datetime(2021, 10, 5))\n",
    "c = DateTimeRange(datetime(2021, 10, 6), datetime(2021, 10, 8))\n",
    "d = DateTimeRange(datetime(2021, 10, 20), datetime(2021, 10, 25))"
   ]
  },
  {
   "cell_type": "code",
   "execution_count": 84,
   "id": "b3f56ff4",
   "metadata": {},
   "outputs": [],
   "source": [
    "dtrl = DateRangeLadder(a)"
   ]
  },
  {
   "cell_type": "code",
   "execution_count": 85,
   "id": "4c378830",
   "metadata": {},
   "outputs": [
    {
     "name": "stdout",
     "output_type": "stream",
     "text": [
      "[2021-10-03T00:00:00 - 2021-10-05T00:00:00, 2021-10-01T00:00:00 - 2021-10-10T00:00:00]\n",
      "[2021-10-06T00:00:00 - 2021-10-08T00:00:00, 2021-10-01T00:00:00 - 2021-10-10T00:00:00]\n",
      "[]\n"
     ]
    }
   ],
   "source": [
    "dtrl.step_in_ladder(b)\n",
    "print(dtrl.ladder)\n",
    "dtrl.step_in_ladder(c)\n",
    "print(dtrl.ladder)\n",
    "dtrl.step_in_ladder(d)\n",
    "print(dtrl.ladder)\n"
   ]
  },
  {
   "cell_type": "code",
   "execution_count": 86,
   "id": "115f20ec",
   "metadata": {},
   "outputs": [],
   "source": [
    "a = DateTimeRange(datetime(2021, 10, 24), datetime(2021, 11, 4))\n",
    "\n",
    "dtrl = DateRangeLadder(a)"
   ]
  },
  {
   "cell_type": "code",
   "execution_count": 87,
   "id": "0f157831",
   "metadata": {},
   "outputs": [
    {
     "name": "stdout",
     "output_type": "stream",
     "text": [
      "2021-10-26T00:00:00 - 2021-10-26T23:59:59\n"
     ]
    },
    {
     "data": {
      "text/plain": [
       "[2021-10-26T00:00:00 - 2021-10-26T23:59:59,\n",
       " 2021-10-24T00:00:00 - 2021-11-04T00:00:00]"
      ]
     },
     "execution_count": 87,
     "metadata": {},
     "output_type": "execute_result"
    }
   ],
   "source": [
    "dtrl.step_in_ladder_with_text(\"kedd\")\n",
    "dtrl.ladder"
   ]
  },
  {
   "cell_type": "code",
   "execution_count": 88,
   "id": "d8c9036a",
   "metadata": {},
   "outputs": [
    {
     "name": "stdout",
     "output_type": "stream",
     "text": [
      "2021-10-26T10:00:00 - 2021-10-26T11:59:59\n",
      "2021-10-26T10:00:00 - 2021-10-26T11:59:59\n"
     ]
    },
    {
     "data": {
      "text/plain": [
       "[2021-10-26T10:00:00 - 2021-10-26T11:59:59,\n",
       " 2021-10-26T00:00:00 - 2021-10-26T23:59:59,\n",
       " 2021-10-24T00:00:00 - 2021-11-04T00:00:00]"
      ]
     },
     "execution_count": 88,
     "metadata": {},
     "output_type": "execute_result"
    }
   ],
   "source": [
    "dtrl.step_in_ladder_with_text(\"délelőtt\")\n",
    "dtrl.ladder"
   ]
  },
  {
   "cell_type": "code",
   "execution_count": 89,
   "id": "b8f0e328",
   "metadata": {},
   "outputs": [
    {
     "name": "stdout",
     "output_type": "stream",
     "text": [
      "2021-10-27T00:00:00 - 2021-10-27T23:59:59\n",
      "2021-10-27T00:00:00 - 2021-10-27T23:59:59\n",
      "2021-10-27T00:00:00 - 2021-10-27T23:59:59\n"
     ]
    },
    {
     "data": {
      "text/plain": [
       "[2021-10-27T00:00:00 - 2021-10-27T23:59:59,\n",
       " 2021-10-24T00:00:00 - 2021-11-04T00:00:00]"
      ]
     },
     "execution_count": 89,
     "metadata": {},
     "output_type": "execute_result"
    }
   ],
   "source": [
    "dtrl.step_in_ladder_with_text(\"szerdán\")\n",
    "dtrl.ladder"
   ]
  },
  {
   "cell_type": "code",
   "execution_count": 90,
   "id": "b93f6380",
   "metadata": {},
   "outputs": [],
   "source": [
    "dtrl_1 = DateRangeLadder.fromJSON(dtrl.toJSON())"
   ]
  },
  {
   "cell_type": "code",
   "execution_count": 92,
   "id": "b0bc60cb",
   "metadata": {},
   "outputs": [
    {
     "name": "stdout",
     "output_type": "stream",
     "text": [
      "2021-10-27T06:00:00 - 2021-10-27T09:59:59\n",
      "2021-10-27T06:00:00 - 2021-10-27T09:59:59\n"
     ]
    },
    {
     "data": {
      "text/plain": [
       "[2021-10-27T06:00:00 - 2021-10-27T09:59:59,\n",
       " 2021-10-27T00:00:00 - 2021-10-27T23:59:00,\n",
       " 2021-10-24T00:00:00 - 2021-11-04T00:00:00]"
      ]
     },
     "execution_count": 92,
     "metadata": {},
     "output_type": "execute_result"
    }
   ],
   "source": [
    "dtrl_1.step_in_ladder_with_text(\"reggel\")\n",
    "dtrl_1.ladder"
   ]
  },
  {
   "cell_type": "code",
   "execution_count": null,
   "id": "3d7e4ef4",
   "metadata": {},
   "outputs": [],
   "source": []
  },
  {
   "cell_type": "code",
   "execution_count": 32,
   "id": "563bd617",
   "metadata": {},
   "outputs": [
    {
     "ename": "AttributeError",
     "evalue": "module 'hun_date_parser' has no attribute '__version__'",
     "output_type": "error",
     "traceback": [
      "\u001b[0;31m---------------------------------------------------------------------------\u001b[0m",
      "\u001b[0;31mAttributeError\u001b[0m                            Traceback (most recent call last)",
      "\u001b[0;32m<ipython-input-32-182fcf1207a2>\u001b[0m in \u001b[0;36m<module>\u001b[0;34m\u001b[0m\n\u001b[1;32m      1\u001b[0m \u001b[0;32mimport\u001b[0m \u001b[0mhun_date_parser\u001b[0m \u001b[0;32mas\u001b[0m \u001b[0mhdp\u001b[0m\u001b[0;34m\u001b[0m\u001b[0;34m\u001b[0m\u001b[0m\n\u001b[0;32m----> 2\u001b[0;31m \u001b[0mhdp\u001b[0m\u001b[0;34m.\u001b[0m\u001b[0m__version__\u001b[0m\u001b[0;34m\u001b[0m\u001b[0;34m\u001b[0m\u001b[0m\n\u001b[0m",
      "\u001b[0;31mAttributeError\u001b[0m: module 'hun_date_parser' has no attribute '__version__'"
     ]
    }
   ],
   "source": [
    "import hun_date_parser as hdp\n",
    "hdp.__version__"
   ]
  },
  {
   "cell_type": "code",
   "execution_count": 6,
   "id": "c676d173",
   "metadata": {},
   "outputs": [],
   "source": [
    "from datetime import datetime"
   ]
  },
  {
   "cell_type": "code",
   "execution_count": 30,
   "id": "d0c03778",
   "metadata": {},
   "outputs": [
    {
     "name": "stdout",
     "output_type": "stream",
     "text": [
      "/usr/lib/python3/dist-packages/secretstorage/dhcrypto.py:16: CryptographyDeprecationWarning: int_from_bytes is deprecated, use int.from_bytes instead\n",
      "  from cryptography.utils import int_from_bytes\n",
      "/usr/lib/python3/dist-packages/secretstorage/util.py:25: CryptographyDeprecationWarning: int_from_bytes is deprecated, use int.from_bytes instead\n",
      "  from cryptography.utils import int_from_bytes\n",
      "Processing ./.libs/hun_date_parser-0.0.9rc2-py3-none-any.whl\n",
      "Installing collected packages: hun-date-parser\n",
      "  Attempting uninstall: hun-date-parser\n",
      "    Found existing installation: hun-date-parser 0.0.9rc1\n",
      "    Uninstalling hun-date-parser-0.0.9rc1:\n",
      "      Successfully uninstalled hun-date-parser-0.0.9rc1\n",
      "Successfully installed hun-date-parser-0.0.9rc2\n"
     ]
    }
   ],
   "source": [
    "!pip install ./.libs/hun_date_parser-0.0.9rc2-py3-none-any.whl"
   ]
  },
  {
   "cell_type": "code",
   "execution_count": 8,
   "id": "2b33f209",
   "metadata": {},
   "outputs": [],
   "source": [
    "def get_available_appointments():\n",
    "    \"\"\"\n",
    "    Loads available appointment list.\n",
    "    \"\"\"\n",
    "    now = datetime.now()  # Get the current date\n",
    "\n",
    "    with open('test_data.json', 'r') as f:  # Opening test_data\n",
    "        data = json.load(f)\n",
    "\n",
    "    # Parsing the test_data into a dictionary\n",
    "    res = []\n",
    "    for day in data:\n",
    "        parsed = {'start_date': datetime.fromisoformat(day['start_date']),\n",
    "                  'end_date': datetime.fromisoformat(day['end_date'])}\n",
    "\n",
    "        # Normalizing the data\n",
    "        if parsed['end_date'] <= now:\n",
    "            continue\n",
    "        if parsed['start_date'] <= now:\n",
    "            parsed['start_date'] = now\n",
    "        res.append(parsed)\n",
    "\n",
    "    return res"
   ]
  },
  {
   "cell_type": "code",
   "execution_count": 9,
   "id": "f91a9a41",
   "metadata": {},
   "outputs": [
    {
     "data": {
      "text/plain": [
       "[{'start_date': datetime.datetime(2021, 10, 21, 17, 0),\n",
       "  'end_date': datetime.datetime(2021, 10, 21, 19, 0)},\n",
       " {'start_date': datetime.datetime(2021, 10, 26, 17, 0),\n",
       "  'end_date': datetime.datetime(2021, 10, 26, 23, 0)},\n",
       " {'start_date': datetime.datetime(2021, 10, 29, 11, 0),\n",
       "  'end_date': datetime.datetime(2021, 10, 29, 19, 0)},\n",
       " {'start_date': datetime.datetime(2021, 11, 1, 6, 0),\n",
       "  'end_date': datetime.datetime(2021, 11, 1, 19, 0)}]"
      ]
     },
     "execution_count": 9,
     "metadata": {},
     "output_type": "execute_result"
    }
   ],
   "source": [
    "get_available_appointments()"
   ]
  },
  {
   "cell_type": "code",
   "execution_count": 13,
   "id": "624937fe",
   "metadata": {},
   "outputs": [],
   "source": [
    "time_table = TimeTable(['user_free', 'bot_free'])\n",
    "for rec in get_available_appointments():\n",
    "    time_table.label_timerange(rec['start_date'], rec['end_date'], 'bot_free')"
   ]
  },
  {
   "cell_type": "code",
   "execution_count": 14,
   "id": "33dbd7a4",
   "metadata": {},
   "outputs": [
    {
     "data": {
      "text/plain": [
       "[]"
      ]
     },
     "execution_count": 14,
     "metadata": {},
     "output_type": "execute_result"
    }
   ],
   "source": [
    "time_table.query_timerange(datetime(2021, 10, 11, 12, 0),\n",
    "                        datetime(2021, 10, 11, 15, 0),\n",
    "                        'bot_free')"
   ]
  },
  {
   "cell_type": "code",
   "execution_count": 15,
   "id": "ff2eca7e",
   "metadata": {},
   "outputs": [
    {
     "data": {
      "text/plain": [
       "2021-10-17T09:00:00 - 2021-10-17T19:00:00"
      ]
     },
     "execution_count": 15,
     "metadata": {},
     "output_type": "execute_result"
    }
   ],
   "source": [
    "time_table.query_first_range_for_label('bot_free')"
   ]
  },
  {
   "cell_type": "code",
   "execution_count": 21,
   "id": "582f7072",
   "metadata": {},
   "outputs": [],
   "source": [
    "from datetime import datetime"
   ]
  },
  {
   "cell_type": "code",
   "execution_count": 20,
   "id": "38a7ce66",
   "metadata": {},
   "outputs": [],
   "source": [
    "from hun_date_parser.date_parser.interval_restriction import extract_datetime_within_interval"
   ]
  },
  {
   "cell_type": "code",
   "execution_count": 22,
   "id": "e9fdbb09",
   "metadata": {},
   "outputs": [
    {
     "data": {
      "text/plain": [
       "(<ExtractWithinRangeSuccess.VALID_IN_RANGE: 'in_range'>,\n",
       " [{'start_date': datetime.datetime(2021, 10, 14, 6, 0),\n",
       "   'end_date': datetime.datetime(2021, 10, 14, 9, 59, 59)}])"
      ]
     },
     "execution_count": 22,
     "metadata": {},
     "output_type": "execute_result"
    }
   ],
   "source": [
    "extract_datetime_within_interval(datetime(2021, 10, 14), datetime(2021, 10, 15), 'reggel')"
   ]
  },
  {
   "cell_type": "code",
   "execution_count": 27,
   "id": "6759cc85",
   "metadata": {},
   "outputs": [
    {
     "data": {
      "text/plain": [
       "3600"
      ]
     },
     "execution_count": 27,
     "metadata": {},
     "output_type": "execute_result"
    }
   ],
   "source": [
    "(datetime(2021, 10, 11, 5) - datetime(2021, 10, 11, 4)).seconds"
   ]
  },
  {
   "cell_type": "code",
   "execution_count": 11,
   "id": "96763251",
   "metadata": {},
   "outputs": [],
   "source": [
    "from hun_date_parser import text2datetime"
   ]
  },
  {
   "cell_type": "code",
   "execution_count": 12,
   "id": "add05a7a",
   "metadata": {},
   "outputs": [
    {
     "data": {
      "text/plain": [
       "[{'start_date': datetime.datetime(2021, 10, 20, 0, 0),\n",
       "  'end_date': datetime.datetime(2021, 10, 20, 23, 59, 59)}]"
      ]
     },
     "execution_count": 12,
     "metadata": {},
     "output_type": "execute_result"
    }
   ],
   "source": [
    "text2datetime(\"szerda\")"
   ]
  },
  {
   "cell_type": "code",
   "execution_count": 13,
   "id": "0cd5185c",
   "metadata": {},
   "outputs": [
    {
     "data": {
      "text/plain": [
       "[{'start_date': datetime.datetime(2021, 10, 27, 0, 0),\n",
       "  'end_date': datetime.datetime(2021, 10, 27, 23, 59, 59)}]"
      ]
     },
     "execution_count": 13,
     "metadata": {},
     "output_type": "execute_result"
    }
   ],
   "source": [
    "text2datetime(\"szerda\", expect_future_day=True)"
   ]
  },
  {
   "cell_type": "code",
   "execution_count": null,
   "id": "af64bc10",
   "metadata": {},
   "outputs": [],
   "source": []
  }
 ],
 "metadata": {
  "kernelspec": {
   "display_name": "Python 3",
   "language": "python",
   "name": "python3"
  },
  "language_info": {
   "codemirror_mode": {
    "name": "ipython",
    "version": 3
   },
   "file_extension": ".py",
   "mimetype": "text/x-python",
   "name": "python",
   "nbconvert_exporter": "python",
   "pygments_lexer": "ipython3",
   "version": "3.8.6"
  }
 },
 "nbformat": 4,
 "nbformat_minor": 5
}
