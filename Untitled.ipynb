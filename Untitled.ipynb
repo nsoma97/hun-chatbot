{
 "cells": [
  {
   "cell_type": "code",
   "execution_count": 4,
   "id": "ae3c9cc4",
   "metadata": {},
   "outputs": [],
   "source": [
    "from typing import List\n",
    "\n",
    "import pandas as pd\n",
    "import json\n",
    "import altair as alt\n",
    "from hun_date_parser import text2datetime\n",
    "from datetimerange import DateTimeRange\n",
    "from copy import deepcopy\n",
    "\n",
    "from datetime import datetime\n",
    "\n",
    "\n",
    "class TimeTable:\n",
    "    \"\"\"\n",
    "    Time interval state representation\n",
    "    \"\"\"\n",
    "\n",
    "    def __init__(self, labels: List[str]):\n",
    "        \"\"\"\n",
    "        :param\n",
    "        \"\"\"\n",
    "        self.labels = labels\n",
    "        self.sub_datetimes = {l: [] for l in labels}\n",
    "\n",
    "    def _house_keeping(self):\n",
    "        for label in self.labels:\n",
    "            for i, dtr_i in enumerate(self.sub_datetimes[label]):\n",
    "                for j, dtr_j in enumerate(self.sub_datetimes[label]):\n",
    "                    if i < j and dtr_i.is_intersection(dtr_j):\n",
    "                        self.sub_datetimes[label][i] = self.sub_datetimes[label][i].encompass(\n",
    "                            self.sub_datetimes[label][j])\n",
    "                        del self.sub_datetimes[label][j]\n",
    "                        self._house_keeping()\n",
    "                        break\n",
    "\n",
    "    def label_timerange(self, start, end, label):\n",
    "        new_dtr = DateTimeRange(start, end)\n",
    "\n",
    "        encompassed = False\n",
    "        for i in range(len(self.sub_datetimes[label])):\n",
    "            if self.sub_datetimes[label][i].is_intersection(new_dtr):\n",
    "                encompassed = True\n",
    "                self.sub_datetimes[label][i] = self.sub_datetimes[label][i].encompass(new_dtr)\n",
    "\n",
    "        if not encompassed:\n",
    "            self.sub_datetimes[label].append(new_dtr)\n",
    "\n",
    "        self._house_keeping()\n",
    "\n",
    "    def query_timerange(self, start, end, label):\n",
    "        queried_dtr = DateTimeRange(start, end)\n",
    "        result = []\n",
    "\n",
    "        for dtr in self.sub_datetimes[label]:\n",
    "            if queried_dtr.is_intersection(dtr):\n",
    "                result.append(queried_dtr.intersection(dtr))\n",
    "\n",
    "        return result\n",
    "\n",
    "    def label_timerange_by_text(self, text, label):\n",
    "        res_l = text2datetime(text)\n",
    "\n",
    "        for tval in res_l:\n",
    "            if tval['start_date'] and tval['end_date']:\n",
    "                self.label_timerange(tval['start_date'], tval['end_date'], label)\n",
    "\n",
    "    def get_viz(self):\n",
    "        res = []\n",
    "\n",
    "        for label, ti_list in self.sub_datetimes.items():\n",
    "            for dtr in ti_list:\n",
    "                res.append([label, dtr.start_datetime, dtr.end_datetime])\n",
    "\n",
    "        df_timetable = pd.DataFrame(res, columns=['label', 'from', 'to'])\n",
    "\n",
    "        alt.renderers.enable('default')\n",
    "        alt.Chart(df_timetable).mark_bar().encode(\n",
    "            x='from',\n",
    "            x2='to',\n",
    "            y='label',\n",
    "            tooltip=[alt.Tooltip('from', format='%Y-%m-%d %H:%M'), alt.Tooltip('to', format='%Y-%m-%d %H:%M')],\n",
    "            color=alt.Color('label', scale=alt.Scale(scheme='dark2'))\n",
    "        ).properties(\n",
    "            width=1200,\n",
    "            height=200\n",
    "        ).save('chart_from_chatbot.html')\n",
    "\n",
    "    def toJSON(self):\n",
    "        dct = deepcopy(self.__dict__)\n",
    "\n",
    "        serializable_sub_datetimes = {lb: [] for lb in self.labels}\n",
    "        for k, intv_list in self.sub_datetimes.items():\n",
    "            for intv in intv_list:\n",
    "                serializable_sub_datetimes[k].append((intv.start_datetime.strftime('%Y-%m-%d %H:%M'),\n",
    "                                                      intv.end_datetime.strftime('%Y-%m-%d %H:%M')))\n",
    "\n",
    "        dct[\"sub_datetimes\"] = serializable_sub_datetimes\n",
    "\n",
    "        return json.dumps(dct)\n",
    "\n",
    "    @staticmethod\n",
    "    def fromJSON(json_str):\n",
    "        dct = json.loads(json_str)\n",
    "        tt = TimeTable(dct['labels'])\n",
    "\n",
    "        parsed_sub_datetimes = {lb: [] for lb in dct['labels']}\n",
    "        for k, intv_list in dct['sub_datetimes'].items():\n",
    "            for sd, ed in intv_list:\n",
    "                parsed_sub_datetimes[k].append(DateTimeRange(sd, ed))\n",
    "\n",
    "        tt.sub_datetimes = parsed_sub_datetimes\n",
    "\n",
    "        return tt"
   ]
  },
  {
   "cell_type": "code",
   "execution_count": 5,
   "id": "2b33f209",
   "metadata": {},
   "outputs": [],
   "source": [
    "def get_available_appointments():\n",
    "    \"\"\"\n",
    "    Loads available appointment list.\n",
    "    \"\"\"\n",
    "    now = datetime.now()  # Get the current date\n",
    "\n",
    "    with open('test_data.json', 'r') as f:  # Opening test_data\n",
    "        data = json.load(f)\n",
    "\n",
    "    # Parsing the test_data into a dictionary\n",
    "    res = []\n",
    "    for day in data:\n",
    "        parsed = {'start_date': datetime.fromisoformat(day['start_date']),\n",
    "                  'end_date': datetime.fromisoformat(day['end_date'])}\n",
    "\n",
    "        # Normalizing the data\n",
    "        if parsed['end_date'] <= now:\n",
    "            continue\n",
    "        if parsed['start_date'] <= now:\n",
    "            parsed['start_date'] = now\n",
    "        res.append(parsed)\n",
    "\n",
    "    return res"
   ]
  },
  {
   "cell_type": "code",
   "execution_count": 6,
   "id": "f91a9a41",
   "metadata": {},
   "outputs": [
    {
     "data": {
      "text/plain": [
       "[{'start_date': datetime.datetime(2021, 10, 11, 14, 0),\n",
       "  'end_date': datetime.datetime(2021, 10, 11, 16, 0)},\n",
       " {'start_date': datetime.datetime(2021, 10, 13, 14, 0),\n",
       "  'end_date': datetime.datetime(2021, 10, 13, 19, 0)},\n",
       " {'start_date': datetime.datetime(2021, 10, 17, 9, 0),\n",
       "  'end_date': datetime.datetime(2021, 10, 17, 19, 0)}]"
      ]
     },
     "execution_count": 6,
     "metadata": {},
     "output_type": "execute_result"
    }
   ],
   "source": [
    "get_available_appointments()"
   ]
  },
  {
   "cell_type": "code",
   "execution_count": 7,
   "id": "624937fe",
   "metadata": {},
   "outputs": [],
   "source": [
    "time_table = TimeTable(['user_free', 'bot_free'])\n",
    "for rec in get_available_appointments():\n",
    "    time_table.label_timerange(rec['start_date'], rec['end_date'], 'bot_free')"
   ]
  },
  {
   "cell_type": "code",
   "execution_count": 10,
   "id": "33dbd7a4",
   "metadata": {},
   "outputs": [
    {
     "data": {
      "text/plain": [
       "[2021-10-11T14:00:00 - 2021-10-11T15:00:00]"
      ]
     },
     "execution_count": 10,
     "metadata": {},
     "output_type": "execute_result"
    }
   ],
   "source": [
    "time_table.query_timerange(datetime(2021, 10, 11, 12, 0),\n",
    "                        datetime(2021, 10, 11, 15, 0),\n",
    "                        'bot_free')"
   ]
  },
  {
   "cell_type": "code",
   "execution_count": null,
   "id": "ff2eca7e",
   "metadata": {},
   "outputs": [],
   "source": []
  }
 ],
 "metadata": {
  "kernelspec": {
   "display_name": "Python 3",
   "language": "python",
   "name": "python3"
  },
  "language_info": {
   "codemirror_mode": {
    "name": "ipython",
    "version": 3
   },
   "file_extension": ".py",
   "mimetype": "text/x-python",
   "name": "python",
   "nbconvert_exporter": "python",
   "pygments_lexer": "ipython3",
   "version": "3.8.6"
  }
 },
 "nbformat": 4,
 "nbformat_minor": 5
}
